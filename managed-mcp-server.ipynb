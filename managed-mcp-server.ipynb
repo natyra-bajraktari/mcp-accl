{
 "cells": [
  {
   "cell_type": "markdown",
   "metadata": {
    "application/vnd.databricks.v1+cell": {
     "cellMetadata": {},
     "inputWidgets": {},
     "nuid": "47f2944e-c526-4a50-9dd6-7b370b35f192",
     "showTitle": false,
     "tableResultSettingsMap": {},
     "title": ""
    }
   },
   "source": [
    "#Managed MCP servers in Databricks\n",
    "\n",
    "MCP servers are like connectors that allow AI agents to use outside data and tools. With Databricks, you don’t need to build these connections yourself — the managed MCP servers let your agents quickly plug into Unity Catalog data, vector search, and custom functions. Please refer in our [documentation page](https://docs.databricks.com/aws/en/generative-ai/mcp/managed-mcp) to find out more about managed mcp servers available in Databricks.\n"
   ]
  },
  {
   "cell_type": "markdown",
   "metadata": {
    "application/vnd.databricks.v1+cell": {
     "cellMetadata": {},
     "inputWidgets": {},
     "nuid": "430d09fd-ecb9-48b6-afde-1381e24fc18f",
     "showTitle": false,
     "tableResultSettingsMap": {},
     "title": ""
    }
   },
   "source": [
    "## 0. Get started with the Genie MCP managed servers in Databricks\n",
    "\n",
    "In this accelerator, we’ll work with a healthcare dataset to show how agents and Genie as a Databricks managed MCP server can be applied in practice. We’ll use [Genie](https://docs.databricks.com/aws/en/genie/) inside Databricks to explore the data, ask questions in natural language, and quickly generate insights. This example illustrates how MCP-powered agents can help domain experts interact with complex datasets without writing from scratch these capabilities.\n",
    "\n"
   ]
  },
  {
   "cell_type": "markdown",
   "metadata": {
    "application/vnd.databricks.v1+cell": {
     "cellMetadata": {},
     "inputWidgets": {},
     "nuid": "d58c437c-8dfd-49f8-ad78-26b5c7ad1d18",
     "showTitle": false,
     "tableResultSettingsMap": {},
     "title": ""
    }
   },
   "source": [
    "\n",
    "## 1. Create a Genie space in Databricks\n",
    "\n",
    "In order to get started first you need to create your Genie space in your Databricks Workspace. To setup your Genie workspace, refer to the [documentation](https://docs.databricks.com/aws/en/genie/set-up#-create-a-genie-space). To make sure your Genie space is setup with the best practices, have a look [here](https://docs.databricks.com/gcp/en/genie/best-practices). In our example we have setup our genie space as below:<br><br>\n",
    "\n",
    "<img src=\"/files/images/screenshot.png\" style=\"float: right\" width=\"800px\">\n",
    "\n"
   ]
  },
  {
   "cell_type": "markdown",
   "metadata": {
    "application/vnd.databricks.v1+cell": {
     "cellMetadata": {},
     "inputWidgets": {},
     "nuid": "81b1e8d5-533c-4a58-9cdc-853daebd2cba",
     "showTitle": false,
     "tableResultSettingsMap": {},
     "title": ""
    }
   },
   "source": [
    "## 2. Use the Genie MCP server in your agent code. \n",
    "\n",
    "In Databricks you can build agents in the framework of your choice. In our example we have used the Langgraph framework to build the agent and provide the Genie capabilities from the managed MCP server.\n"
   ]
  },
  {
   "cell_type": "markdown",
   "metadata": {
    "application/vnd.databricks.v1+cell": {
     "cellMetadata": {},
     "inputWidgets": {},
     "nuid": "0e9631bf-c4de-4fd4-b643-26291f0fa898",
     "showTitle": false,
     "tableResultSettingsMap": {},
     "title": ""
    }
   },
   "source": [
    "## "
   ]
  },
  {
   "cell_type": "markdown",
   "metadata": {
    "application/vnd.databricks.v1+cell": {
     "cellMetadata": {},
     "inputWidgets": {},
     "nuid": "bf7a3de6-943b-4c4e-a3c6-0ad76ed3e722",
     "showTitle": false,
     "tableResultSettingsMap": {},
     "title": ""
    }
   },
   "source": [
    "## UC tools vs managed MCP server?"
   ]
  },
  {
   "cell_type": "code",
   "execution_count": 0,
   "metadata": {
    "application/vnd.databricks.v1+cell": {
     "cellMetadata": {},
     "inputWidgets": {},
     "nuid": "92f24aab-3f69-43ef-85c2-7d54b5b2a8a7",
     "showTitle": false,
     "tableResultSettingsMap": {},
     "title": ""
    }
   },
   "outputs": [],
   "source": []
  }
 ],
 "metadata": {
  "application/vnd.databricks.v1+notebook": {
   "computePreferences": null,
   "dashboards": [],
   "environmentMetadata": {
    "base_environment": "",
    "environment_version": "3"
   },
   "inputWidgetPreferences": null,
   "language": "python",
   "notebookMetadata": {
    "pythonIndentUnit": 2
   },
   "notebookName": "managed-mcp-server",
   "widgets": {}
  },
  "language_info": {
   "name": "python"
  }
 },
 "nbformat": 4,
 "nbformat_minor": 0
}
