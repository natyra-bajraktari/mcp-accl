{
 "cells": [
  {
   "cell_type": "markdown",
   "metadata": {
    "application/vnd.databricks.v1+cell": {
     "cellMetadata": {},
     "inputWidgets": {},
     "nuid": "47f2944e-c526-4a50-9dd6-7b370b35f192",
     "showTitle": false,
     "tableResultSettingsMap": {},
     "title": ""
    }
   },
   "source": [
    "#Managed MCP servers in Databricks\n",
    "\n",
    "MCP servers are like connectors that allow AI agents to use outside data and tools. With Databricks, you don’t need to build these connections yourself — the managed MCP servers let your agents quickly plug into Unity Catalog data, vector search, and custom functions. Please refer in our [documentation page](https://docs.databricks.com/aws/en/generative-ai/mcp/managed-mcp) to find out more about managed mcp servers available in Databricks.\n"
   ]
  },
  {
   "cell_type": "markdown",
   "metadata": {
    "application/vnd.databricks.v1+cell": {
     "cellMetadata": {},
     "inputWidgets": {},
     "nuid": "430d09fd-ecb9-48b6-afde-1381e24fc18f",
     "showTitle": false,
     "tableResultSettingsMap": {},
     "title": ""
    }
   },
   "source": [
    "## 0. Get started with the Genie MCP managed servers in Databricks\n",
    "\n",
    "In this accelerator, we’ll work with a healthcare dataset to show how agents and Genie as a Databricks managed MCP server can be applied in practice. We’ll use [Genie](https://docs.databricks.com/aws/en/genie/) inside Databricks to explore the data, ask questions in natural language, and quickly generate insights. This example illustrates how MCP-powered agents can help domain experts interact with complex datasets without writing from scratch these capabilities.\n",
    "\n"
   ]
  },
  {
   "cell_type": "markdown",
   "metadata": {
    "application/vnd.databricks.v1+cell": {
     "cellMetadata": {},
     "inputWidgets": {},
     "nuid": "d58c437c-8dfd-49f8-ad78-26b5c7ad1d18",
     "showTitle": false,
     "tableResultSettingsMap": {},
     "title": ""
    }
   },
   "source": [
    "\n",
    "## 1. Create a Genie space in Databricks\n",
    "\n",
    "In order to get started first you need to create your Genie space in your Databricks Workspace. To setup your Genie workspace, refer to the [documentation](https://docs.databricks.com/aws/en/genie/set-up#-create-a-genie-space). To make sure your Genie space is setup with the best practices, have a look [here](https://docs.databricks.com/gcp/en/genie/best-practices). In our example we have setup our genie space as below:<br><br>\n",
    "\n",
    "<img src=\"/files/images/screenshot.png\" style=\"float: right\" width=\"800px\">\n",
    "\n"
   ]
  },
  {
   "cell_type": "markdown",
   "metadata": {
    "application/vnd.databricks.v1+cell": {
     "cellMetadata": {},
     "inputWidgets": {},
     "nuid": "81b1e8d5-533c-4a58-9cdc-853daebd2cba",
     "showTitle": false,
     "tableResultSettingsMap": {},
     "title": ""
    }
   },
   "source": [
    "## 2. Use the Genie MCP server in your agent code. \n",
    "\n",
    "In Databricks you can build agents in the framework of your choice. In our example we have used LangGraph to build the agent in the Databricks [Mosaic AI framework](https://docs.databricks.com/aws/en/generative-ai/agent-framework/create-agent) and expose the Genie capabilities from the managed MCP server. For the managed Databricks MCP servers, you would just need to put the specific managed MCP server url, in our case we would need to put the url of the Genie space we have created. The code below is just a snippet of the complete code, with the main change you need to do. This is following already the publicly available [notebook example](https://docs.databricks.com/aws/en/generative-ai/mcp/managed-mcp#notebooks-build-an-agent-with-managed-mcp-servers) which you could adjust it in your case as well. To see how the complete full code works in action, check the [mcp-tool-call-agent](url) notebook.\n"
   ]
  },
  {
   "cell_type": "code",
   "execution_count": 0,
   "metadata": {
    "application/vnd.databricks.v1+cell": {
     "cellMetadata": {},
     "inputWidgets": {},
     "nuid": "0e9631bf-c4de-4fd4-b643-26291f0fa898",
     "showTitle": false,
     "tableResultSettingsMap": {},
     "title": ""
    }
   },
   "outputs": [],
   "source": [
    "import asyncio\n",
    "import mlflow\n",
    "import os\n",
    "import json\n",
    "from uuid import uuid4\n",
    "from pydantic import BaseModel, create_model\n",
    "from typing import Annotated, Any, Generator, List, Optional, Sequence, TypedDict, Union\n",
    "\n",
    "from databricks_langchain import (\n",
    "    ChatDatabricks,\n",
    "    UCFunctionToolkit,\n",
    "    VectorSearchRetrieverTool,\n",
    ")\n",
    "from databricks_mcp import DatabricksOAuthClientProvider, DatabricksMCPClient\n",
    "from databricks.sdk import WorkspaceClient\n",
    "\n",
    "from langchain_core.language_models import LanguageModelLike\n",
    "from langchain_core.runnables import RunnableConfig, RunnableLambda\n",
    "from langchain_core.messages import (\n",
    "    AIMessage,\n",
    "    AIMessageChunk,\n",
    "    BaseMessage,\n",
    "    convert_to_openai_messages,\n",
    ")\n",
    "from langchain_core.tools import BaseTool, tool\n",
    "\n",
    "from langgraph.graph import END, StateGraph\n",
    "from langgraph.graph.graph import CompiledGraph\n",
    "from langgraph.graph.message import add_messages\n",
    "from langgraph.graph.state import CompiledStateGraph\n",
    "from langgraph.prebuilt.tool_node import ToolNode\n",
    "\n",
    "from mcp import ClientSession\n",
    "from mcp.client.streamable_http import streamablehttp_client as connect\n",
    "\n",
    "from mlflow.entities import SpanType\n",
    "from mlflow.pyfunc import ResponsesAgent\n",
    "from mlflow.types.responses import (\n",
    "    ResponsesAgentRequest,\n",
    "    ResponsesAgentResponse,\n",
    "    ResponsesAgentStreamEvent,\n",
    ")\n",
    "\n",
    "import nest_asyncio\n",
    "nest_asyncio.apply()\n",
    "\n",
    "############################################\n",
    "## Define your LLM endpoint and system prompt\n",
    "############################################\n",
    "# TODO: Replace with your model serving endpoint\n",
    "LLM_ENDPOINT_NAME = \"databricks-claude-3-7-sonnet\"\n",
    "llm = ChatDatabricks(endpoint=LLM_ENDPOINT_NAME)\n",
    "\n",
    "# TODO: Update with your system prompt\n",
    "system_prompt = \"\"\"You are a healthcare data assistant. Your main tasks are:\n",
    "\n",
    "1. When asked to explain, summarize, or analyze healthcare datasets, use the Databricks Genie tools to provide insights, data explanations, and context.\"\"\"\n",
    "\n",
    "###############################################################################\n",
    "## Configure MCP Servers for your agent\n",
    "## This section sets up server connections so your agent can retrieve data or take actions.\n",
    "###############################################################################\n",
    "\n",
    "# TODO: Choose your MCP server connection type.\n",
    "\n",
    "# ----- Simple: Managed MCP Server (no extra setup required) -----\n",
    "# Uses your Databricks Workspace settings and Personal Access Token (PAT) auth.\n",
    "workspace_client = WorkspaceClient()\n",
    "\n",
    "# Managed MCP Servers: Ready to use with default settings above\n",
    "host = workspace_client.config.host\n",
    "MANAGED_MCP_SERVER_URLS = [\n",
    "    # TODO: Add here your genie space id\n",
    "    f\"{host}/api/2.0/mcp/genie/01f076c46ca8181ba15b996ff7462de2\",\n",
    "]"
   ]
  },
  {
   "cell_type": "markdown",
   "metadata": {
    "application/vnd.databricks.v1+cell": {
     "cellMetadata": {},
     "inputWidgets": {},
     "nuid": "74d57d37-64ce-4ee9-b1d2-b55e46c824b0",
     "showTitle": false,
     "tableResultSettingsMap": {},
     "title": ""
    }
   },
   "source": [
    "Test the Databricks Genie MCP server directly in the Databricks [AI Playground](https://docs.databricks.com/aws/en/large-language-models/ai-playground#use-ai-playground). You would just need to add your Genie space and then start asking questions using the model endpoint of your choice. In future, you'd be able to also export the notebook code from the playground as normally is possible for non-MCP agentic applications. Additionally, you could also expose the Genie capabilities to external client application such as Claude Desktop. To see how is this done, you could follow the instructions explained [here](https://github.com/alexxx-db/databricks-genie-mcp)."
   ]
  },
  {
   "cell_type": "markdown",
   "metadata": {
    "application/vnd.databricks.v1+cell": {
     "cellMetadata": {},
     "inputWidgets": {},
     "nuid": "28a912cc-89b6-410a-add6-c86351e16446",
     "showTitle": false,
     "tableResultSettingsMap": {},
     "title": ""
    }
   },
   "source": [
    "<img src=\"/files/images/playground-1.png\" style=\"float: right\">\n"
   ]
  },
  {
   "cell_type": "markdown",
   "metadata": {
    "application/vnd.databricks.v1+cell": {
     "cellMetadata": {},
     "inputWidgets": {},
     "nuid": "b7724a84-5c17-4efb-b82e-badeae8e3d2a",
     "showTitle": false,
     "tableResultSettingsMap": {},
     "title": ""
    }
   },
   "source": [
    "Then start asking questions."
   ]
  },
  {
   "cell_type": "markdown",
   "metadata": {
    "application/vnd.databricks.v1+cell": {
     "cellMetadata": {},
     "inputWidgets": {},
     "nuid": "f49217b8-eb1e-49b0-a61a-191421294651",
     "showTitle": false,
     "tableResultSettingsMap": {},
     "title": ""
    }
   },
   "source": [
    "<img src=\"/files/images/playground-2.png\" style=\"float: right\">\n"
   ]
  },
  {
   "cell_type": "markdown",
   "metadata": {
    "application/vnd.databricks.v1+cell": {
     "cellMetadata": {},
     "inputWidgets": {},
     "nuid": "8786f45a-58af-4e98-93ee-40875c799d12",
     "showTitle": false,
     "tableResultSettingsMap": {},
     "title": ""
    }
   },
   "source": [
    "Additionally, you could also inspect the View Trace option after each response to see how is the tool calling being made. </br></br> \n",
    "\n",
    "<img src=\"/files/images/playground-3.png\" style=\"float: right\">\n"
   ]
  },
  {
   "cell_type": "markdown",
   "metadata": {
    "application/vnd.databricks.v1+cell": {
     "cellMetadata": {},
     "inputWidgets": {},
     "nuid": "bf7a3de6-943b-4c4e-a3c6-0ad76ed3e722",
     "showTitle": false,
     "tableResultSettingsMap": {},
     "title": ""
    }
   },
   "source": [
    "## UC functions as tools or MCP server tools?\n",
    "\n",
    "You might be wondering when you would be using [UC functions](https://docs.databricks.com/aws/en/udf/unity-catalog) or using Databricks managed MCP servers. Both of them being very important to provide capabilities to your agents, UC function would be defintely recommend if you know in advance what functions your agent needs and you are building them complelety in databricks, this way bring all the governance benefits that UC funtions powered by Unity Catalog bring. However if you building a multi-agentic system and you need to share the capabilities across either coming from Databricks Managed MCP servers or you need to do some additional external API calls (custom MCPs) then exposing these as tools in a MCP server would be very efficient for your agentic system."
   ]
  },
  {
   "cell_type": "code",
   "execution_count": 0,
   "metadata": {
    "application/vnd.databricks.v1+cell": {
     "cellMetadata": {},
     "inputWidgets": {},
     "nuid": "92f24aab-3f69-43ef-85c2-7d54b5b2a8a7",
     "showTitle": false,
     "tableResultSettingsMap": {},
     "title": ""
    }
   },
   "outputs": [],
   "source": []
  }
 ],
 "metadata": {
  "application/vnd.databricks.v1+notebook": {
   "computePreferences": null,
   "dashboards": [],
   "environmentMetadata": {
    "base_environment": "",
    "environment_version": "3"
   },
   "inputWidgetPreferences": null,
   "language": "python",
   "notebookMetadata": {
    "pythonIndentUnit": 2
   },
   "notebookName": "managed-mcp-server-notebook",
   "widgets": {}
  },
  "language_info": {
   "name": "python"
  }
 },
 "nbformat": 4,
 "nbformat_minor": 0
}
