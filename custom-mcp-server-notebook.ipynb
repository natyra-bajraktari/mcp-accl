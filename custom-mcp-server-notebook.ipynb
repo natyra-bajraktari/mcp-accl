{
 "cells": [
  {
   "cell_type": "markdown",
   "metadata": {
    "application/vnd.databricks.v1+cell": {
     "cellMetadata": {},
     "inputWidgets": {},
     "nuid": "df22e6aa-df0c-4fb5-9453-f6350218b0b3",
     "showTitle": false,
     "tableResultSettingsMap": {},
     "title": ""
    }
   },
   "source": [
    "# Custom MCP servers in Databricks\n",
    "\n",
    "Besides the already available managed Databricks MCP servers that you could use to expose different capabilities to your agents as shown in [managed-mcp-server-notebook]($./managed-mcp-server-notebook), you could also create your own MCP servers with your own tools and host them in Databricks using Databricks Apps. These are known as [custom MCP servers](https://docs.databricks.com/aws/en/generative-ai/mcp/custom-mcp)."
   ]
  },
  {
   "cell_type": "markdown",
   "metadata": {
    "application/vnd.databricks.v1+cell": {
     "cellMetadata": {},
     "inputWidgets": {},
     "nuid": "e5df29ec-a38f-41c2-8eca-877815dafb77",
     "showTitle": false,
     "tableResultSettingsMap": {},
     "title": ""
    }
   },
   "source": [
    "## Get started with custom MCP servers\n",
    "\n",
    "To host your own MCP server in Databricks, you should be acquanted with [Databricks Apps](https://learn.microsoft.com/en-us/azure/databricks/dev-tools/databricks-apps/) that enables users securely and efficiently deploy apps in Databricks, by providing all the compute and governance capabiltiies of the platform . To get started with the Databricks apps, for our example we have been following the steps from [here](https://docs.databricks.com/aws/en/generative-ai/mcp/custom-mcp#host-an-mcp-server-as-a-databricks-app), by creating the [three main files]($./mcp-custom-server) neccessary for the Databricks Apps: \n",
    "\n",
    "- app.yaml - specifying the CLI command to run your server.\n",
    "- requirements.txt - adding all your Python dependencies to the server\n",
    "- server.py - adding all your custom code for your tools\n",
    "\n",
    "Then to deploy it to the Databricks Apps, you could either use the [command line](https://docs.databricks.com/aws/en/generative-ai/mcp/custom-mcp#upload-the-mcp-server-as-a-databricks-appr) or the [UI](https://learn.microsoft.com/en-us/azure/databricks/dev-tools/databricks-apps/get-started) and point to the directory with these files."
   ]
  },
  {
   "cell_type": "markdown",
   "metadata": {
    "application/vnd.databricks.v1+cell": {
     "cellMetadata": {},
     "inputWidgets": {},
     "nuid": "0c59612f-6544-40f9-9e5e-a4184baf127b",
     "showTitle": false,
     "tableResultSettingsMap": {},
     "title": ""
    }
   },
   "source": [
    "## Our example\n",
    "\n",
    "In our example we are using a healthcare dataset and we are using Genie already hosted as a managed MCP server in Databricks to explorate the dataset and derive insights, as we have shown in [managed-mcp-server-notebook]($./managed-mcp-server-notebook). Further, we want to extend the capabilities of our agentic system by making the agent capable of quantifying a patient’s health risk by calling a risk API. The agent would be capable to retrieve recent lab results from an external source. Lastly, the agent would be also able to schedule a patient’s appointment with a scheduler system. These capabilities are provided as tools in our [server.py]($./mcp-custom-server/server.py) for our custom MCP server."
   ]
  },
  {
   "cell_type": "markdown",
   "metadata": {
    "application/vnd.databricks.v1+cell": {
     "cellMetadata": {},
     "inputWidgets": {},
     "nuid": "213e3e95-e288-4027-8c37-403c8a52dbda",
     "showTitle": false,
     "tableResultSettingsMap": {},
     "title": ""
    }
   },
   "source": [
    "## Test the custom MCP server in the AI Playground\n",
    "\n",
    "In order to test our agentic system with the capabilties provided in our custom MCP server as well as already available Databricks managed MCP server, we will be using the AI playground to see how is our system working. In the future, you'd be able to also export the notebook code with the MCP servers. In case you'd like to see how this would look like in code, use the [langgraph-mcps-agent]($./langgraph-mcps-agent) notebook.\n"
   ]
  },
  {
   "cell_type": "markdown",
   "metadata": {
    "application/vnd.databricks.v1+cell": {
     "cellMetadata": {},
     "inputWidgets": {},
     "nuid": "a4e551d6-740c-4319-b1cc-b0eda0b28b60",
     "showTitle": false,
     "tableResultSettingsMap": {},
     "title": ""
    }
   },
   "source": [
    "First, we need to add our MCP servers as tools:"
   ]
  },
  {
   "cell_type": "markdown",
   "metadata": {
    "application/vnd.databricks.v1+cell": {
     "cellMetadata": {},
     "inputWidgets": {},
     "nuid": "1d27d190-1d5f-4d0a-9f7e-1dfb9909f63b",
     "showTitle": false,
     "tableResultSettingsMap": {},
     "title": ""
    }
   },
   "source": [
    "<img src=\"https://github.com/natyra-bajraktari/mcp-accl/blob/main/img/playground-4.png?raw=true\" style=\"width: 800px; margin-left: 10px\">"
   ]
  },
  {
   "cell_type": "markdown",
   "metadata": {
    "application/vnd.databricks.v1+cell": {
     "cellMetadata": {},
     "inputWidgets": {},
     "nuid": "24c67b2e-840e-4446-b2a9-86b40ccfaf7b",
     "showTitle": false,
     "tableResultSettingsMap": {},
     "title": ""
    }
   },
   "source": [
    "To make sure, that the model is recognizing the tools from the MCP servers provided, we can ask the model to list all the tools available. Additionally, we can also view the trace to see how the call is being made."
   ]
  },
  {
   "cell_type": "markdown",
   "metadata": {
    "application/vnd.databricks.v1+cell": {
     "cellMetadata": {},
     "inputWidgets": {},
     "nuid": "4d496e1d-e2b7-4f61-8d36-6e7de4e615ec",
     "showTitle": false,
     "tableResultSettingsMap": {},
     "title": ""
    }
   },
   "source": [
    "\n",
    "<img src=\"https://github.com/natyra-bajraktari/mcp-accl/blob/main/img/playground-5.png?raw=true\" style=\"width: 800px; margin-left: 10px\">\n"
   ]
  },
  {
   "cell_type": "markdown",
   "metadata": {
    "application/vnd.databricks.v1+cell": {
     "cellMetadata": {},
     "inputWidgets": {},
     "nuid": "ad4a83b4-17a8-4802-b7de-a1299698a19e",
     "showTitle": false,
     "tableResultSettingsMap": {},
     "title": ""
    }
   },
   "source": [
    "Then you can continue asking questions and inspect the calls being made:"
   ]
  },
  {
   "cell_type": "markdown",
   "metadata": {
    "application/vnd.databricks.v1+cell": {
     "cellMetadata": {},
     "inputWidgets": {},
     "nuid": "866b18ad-c4f3-4f02-a7c5-79c858bc0828",
     "showTitle": false,
     "tableResultSettingsMap": {},
     "title": ""
    }
   },
   "source": [
    "<img src=\"https://github.com/natyra-bajraktari/mcp-accl/blob/main/img/playground-6.png?raw=true\" style=\"width: 800px; margin-left: 10px\">\n",
    "\n",
    "\n"
   ]
  },
  {
   "cell_type": "markdown",
   "metadata": {
    "application/vnd.databricks.v1+cell": {
     "cellMetadata": {},
     "inputWidgets": {},
     "nuid": "dc5fc7f4-04be-46ad-bf16-8e5fd14a6a2c",
     "showTitle": false,
     "tableResultSettingsMap": {},
     "title": ""
    }
   },
   "source": [
    "Below, we can see the trace that the model takes to recognize the tools and get the neccessary information on responding the question:\n"
   ]
  },
  {
   "cell_type": "markdown",
   "metadata": {
    "application/vnd.databricks.v1+cell": {
     "cellMetadata": {},
     "inputWidgets": {},
     "nuid": "ab05da6c-1249-48f8-910f-0f0ccd1c4feb",
     "showTitle": false,
     "tableResultSettingsMap": {},
     "title": ""
    }
   },
   "source": [
    "\n",
    "<img src=\"https://github.com/natyra-bajraktari/mcp-accl/blob/main/img/playground-7.png?raw=true\" style=\"width: 800px; margin-left: 10px\">\n"
   ]
  },
  {
   "cell_type": "markdown",
   "metadata": {
    "application/vnd.databricks.v1+cell": {
     "cellMetadata": {},
     "inputWidgets": {},
     "nuid": "878f2917-114c-4b23-b81b-3a9151aa2e91",
     "showTitle": false,
     "tableResultSettingsMap": {},
     "title": ""
    }
   },
   "source": [
    "\n",
    "## Agent with MCP servers in code\n",
    "\n",
    "Though in the future, you'd be able to export the code for the interactions above in AI playground with the MCP servers as tools as well, if you would like to see how you can wrap your MCP servers in code, please refer to this [langgraph-mcps-agent]($./langgraph-mcps-agent)."
   ]
  }
 ],
 "metadata": {
  "application/vnd.databricks.v1+notebook": {
   "computePreferences": null,
   "dashboards": [],
   "environmentMetadata": {
    "base_environment": "",
    "environment_version": "3"
   },
   "inputWidgetPreferences": null,
   "language": "python",
   "notebookMetadata": {
    "pythonIndentUnit": 2
   },
   "notebookName": "custom-mcp-server-notebook",
   "widgets": {}
  },
  "language_info": {
   "name": "python"
  }
 },
 "nbformat": 4,
 "nbformat_minor": 0
}
