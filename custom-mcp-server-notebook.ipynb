{
 "cells": [
  {
   "cell_type": "markdown",
   "metadata": {
    "application/vnd.databricks.v1+cell": {
     "cellMetadata": {},
     "inputWidgets": {},
     "nuid": "df22e6aa-df0c-4fb5-9453-f6350218b0b3",
     "showTitle": false,
     "tableResultSettingsMap": {},
     "title": ""
    }
   },
   "source": [
    "# Custom MCP servers in Databricks\n",
    "\n",
    "Besides the already available managed Databricks MCP servers that you could use to expose different capabilities to your agents as shown in [managed-mcp-server-notebook](https://adb-984752964297111.11.azuredatabricks.net/editor/notebooks/2950507104497486?o=984752964297111#command/5261002272476194), you could also create your own MCP servers with your own tools and host them in Databricks using Databricks Apps. These are known as [custom MCP servers](https://docs.databricks.com/aws/en/generative-ai/mcp/custom-mcp)."
   ]
  },
  {
   "cell_type": "markdown",
   "metadata": {
    "application/vnd.databricks.v1+cell": {
     "cellMetadata": {},
     "inputWidgets": {},
     "nuid": "e5df29ec-a38f-41c2-8eca-877815dafb77",
     "showTitle": false,
     "tableResultSettingsMap": {},
     "title": ""
    }
   },
   "source": [
    "## Get started with custom MCP servers\n",
    "\n",
    "To host your own MCP server in Databricks, you need to be acquanted with [Databricks Apps](https://learn.microsoft.com/en-us/azure/databricks/dev-tools/databricks-apps/) that enables users securely and efficiently deploy apps in Databricks providing all the compute and governance capabiltiies of the platform . To get started with the Databricks apps, for our example we have been following the steps from [here](https://docs.databricks.com/aws/en/generative-ai/mcp/custom-mcp#host-an-mcp-server-as-a-databricks-app), by creating the [three main files](https://adb-984752964297111.11.azuredatabricks.net/browse/folders/2950507104497603?o=984752964297111) neccessary for the Databricks apps: \n",
    "\n",
    "- app.yaml - specifying the CLI command to run your server.\n",
    "- requirements.txt - adding all your Python dependencies to the server\n",
    "- server.py - adding all your custom code for your tools"
   ]
  }
 ],
 "metadata": {
  "application/vnd.databricks.v1+notebook": {
   "computePreferences": null,
   "dashboards": [],
   "environmentMetadata": {
    "base_environment": "",
    "environment_version": "3"
   },
   "inputWidgetPreferences": null,
   "language": "python",
   "notebookMetadata": {
    "pythonIndentUnit": 2
   },
   "notebookName": "custom-mcp-server-notebook",
   "widgets": {}
  },
  "language_info": {
   "name": "python"
  }
 },
 "nbformat": 4,
 "nbformat_minor": 0
}
