{
 "cells": [
  {
   "cell_type": "markdown",
   "metadata": {
    "application/vnd.databricks.v1+cell": {
     "cellMetadata": {},
     "inputWidgets": {},
     "nuid": "9bfa8a24-9e76-4755-a6cb-78d9c028d399",
     "showTitle": false,
     "tableResultSettingsMap": {},
     "title": ""
    }
   },
   "source": [
    "# External MCP servers in Databricks\n",
    "\n",
    "In addition to managed or custom MCP servers, Databricks also supports connecting to **external MCP servers**.  \n",
    "This allows your agent to make use of services that are already hosted outside of Databricks — such as APIs or partner platforms — without needing to redeploy them inside the Databricks environment.  \n",
    "\n",
    "In this example, we will show how to integrate the [Bright Data MCP server](https://brightdata.com/cp/mcp) into Databricks.\n"
   ]
  },
  {
   "cell_type": "markdown",
   "metadata": {
    "application/vnd.databricks.v1+cell": {
     "cellMetadata": {},
     "inputWidgets": {},
     "nuid": "7957d509-219c-4074-932c-1a4975057391",
     "showTitle": false,
     "tableResultSettingsMap": {},
     "title": ""
    }
   },
   "source": [
    "## 0. Register the external MCP server as an HTTP connection\n",
    "\n",
    "To use an external MCP, you first need to register it as an **HTTP connection** in Databricks:\n",
    "\n",
    "1. Navigate to Catalog and **Create a Connections** in your Databricks workspace.\n",
    "\n",
    "\n",
    "2. Create a new **HTTP connection**. Add authentication details if required (e.g., API key).\n",
    "\n",
    "\n",
    "<img src=\"https://github.com/natyra-bajraktari/mcp-accl/blob/main/img/conn1.png?raw=true\" style=\"width: 800px; margin-left: 10px\">\n",
    "\n",
    "\n",
    "3. Provide the external MCP server endpoint (e.g., Bright Data MCP endpoint).\n",
    "\n",
    "\n",
    "<img src=\"https://github.com/natyra-bajraktari/mcp-accl/blob/main/img/conn2.png?raw=true\" style=\"width: 800px; margin-left: 10px\">\n",
    "\n",
    "\n",
    "4. Mark the checkbox **\"Is MCP connection\"** to indicate this is an MCP server.\n",
    "\n",
    "\n",
    "<img src=\"https://github.com/natyra-bajraktari/mcp-accl/blob/main/img/conn3.png?raw=true\" style=\"width: 800px; margin-left: 10px\">\n",
    "\n",
    "\n",
    "Once created, the external MCP server will be available for your agents to use.\n",
    "\n"
   ]
  },
  {
   "cell_type": "markdown",
   "metadata": {
    "application/vnd.databricks.v1+cell": {
     "cellMetadata": {},
     "inputWidgets": {},
     "nuid": "13efe901-1aa1-48ad-8925-f925bbcda987",
     "showTitle": false,
     "tableResultSettingsMap": {},
     "title": ""
    }
   },
   "source": [
    "## 1. Add the external MCP server in Playground\n",
    "\n",
    "Next, you can make the MCP server available to your agent in the **AI Playground**:\n",
    "\n",
    "1. Open the AI Playground in Databricks.\n",
    "2. Add a new tool and select your registered **Bright Data MCP connection**.\n",
    "3. Save the configuration — your agent can now call the external MCP directly from the Playground.\n",
    "\n",
    "<img src=\"https://github.com/natyra-bajraktari/mcp-accl/blob/main/img/add_tool.png?raw=true\" style=\"width: 800px; margin-left: 10px\">"
   ]
  },
  {
   "cell_type": "markdown",
   "metadata": {
    "application/vnd.databricks.v1+cell": {
     "cellMetadata": {},
     "inputWidgets": {},
     "nuid": "452f9ae0-ef25-4212-9a18-a4a138e62752",
     "showTitle": false,
     "tableResultSettingsMap": {},
     "title": ""
    }
   },
   "source": [
    "## 2. Interact with the external MCP server\n",
    "\n",
    "Once added, you can start talking to the external MCP through your agent in the Playground.  \n",
    "For example, you could ask Bright Data MCP to fetch structured data from the web or run specific queries it supports.  \n",
    "\n",
    "<img src=\"https://github.com/natyra-bajraktari/mcp-accl/blob/main/img/play.png?raw=true\" style=\"width: 800px; margin-left: 10px\">\n",
    "\n",
    "\n",
    "You can also inspect the **View Trace** after each response to see the tool calls and confirm that the Bright Data MCP server was invoked.\n"
   ]
  },
  {
   "cell_type": "markdown",
   "metadata": {
    "application/vnd.databricks.v1+cell": {
     "cellMetadata": {},
     "inputWidgets": {},
     "nuid": "a9b34e4f-958d-459a-9f60-fb3e34a41424",
     "showTitle": false,
     "tableResultSettingsMap": {},
     "title": ""
    }
   },
   "source": [
    "## Summary\n",
    "\n",
    "With this approach:\n",
    "- The MCP server is hosted **outside Databricks** (Bright Data).\n",
    "- You register it via the **HTTP connection UI** (mark as \"Is MCP\").\n",
    "- You add it in the **Playground** as a tool.\n",
    "- You can now interact with it directly or combine it with managed/custom MCPs in your agents.\n",
    "\n",
    "This enables you to seamlessly extend your Databricks agents with powerful **external services** without writing any additional code.\n"
   ]
  }
 ],
 "metadata": {
  "application/vnd.databricks.v1+notebook": {
   "computePreferences": null,
   "dashboards": [],
   "environmentMetadata": null,
   "inputWidgetPreferences": null,
   "language": "python",
   "notebookMetadata": {
    "pythonIndentUnit": 2
   },
   "notebookName": "external-mcp-server-notebook",
   "widgets": {}
  },
  "language_info": {
   "name": "python"
  }
 },
 "nbformat": 4,
 "nbformat_minor": 0
}
