{
 "cells": [
  {
   "cell_type": "markdown",
   "metadata": {
    "application/vnd.databricks.v1+cell": {
     "cellMetadata": {},
     "inputWidgets": {},
     "nuid": "bcfe3152-63a9-4cbc-b89d-f9cf0db1886e",
     "showTitle": false,
     "tableResultSettingsMap": {},
     "title": ""
    }
   },
   "source": [
    "\n",
    "#Databricks MCP Acclerator\n",
    "\n",
    "\n",
    "This solution accelerator introduces different ways to integrate **Model Context Protocol (MCP)** and **Agents** within Databricks.  \n",
    "Each section gives a short explanation of the approach and links to detailed examples or demo notebooks.  \n",
    "Use this **introduction** notebook as your entry point to explore the different integration patterns.\n"
   ]
  },
  {
   "cell_type": "markdown",
   "metadata": {
    "application/vnd.databricks.v1+cell": {
     "cellMetadata": {},
     "inputWidgets": {},
     "nuid": "300e43ca-cb05-42f8-b5b7-510643c7861c",
     "showTitle": false,
     "tableResultSettingsMap": {},
     "title": ""
    }
   },
   "source": [
    "### 1. Managed MCP with Agent on Databricks\n",
    "\n",
    "In this setup, an agent runs inside Databricks and uses MCPs that are managed by the platform.\n",
    "This combines the reliability of managed MCPs with the flexibility of running your own agent workflows. Use the [managed-mcp-server]($./managed-mcp-server-notebook) notebook to get started. It will soon be also possible to export code directly from the Playground, making experimentation and deployment much smoother. "
   ]
  },
  {
   "cell_type": "markdown",
   "metadata": {
    "application/vnd.databricks.v1+cell": {
     "cellMetadata": {},
     "inputWidgets": {},
     "nuid": "e069e701-4728-452e-9845-7ba111867a51",
     "showTitle": false,
     "tableResultSettingsMap": {},
     "title": ""
    }
   },
   "source": [
    "### 2. Custom MCP with Agent on Databricks\n",
    "\n",
    "In this section, we would like to extend the capabilities to our agent by building a custom MCP server, deployed via Databricks App. This way, the agent besides being able to derive insight from Genie as a managed MCP server in Databricks, we want to make it capable of also quantifying a patient’s health risk by calling a risk API. The agent would be also capable to retrieve recent lab results from an external source. Use the [custom-mcp-server-notebook]($./custom-mcp-server-notebook) to get started."
   ]
  },
  {
   "cell_type": "markdown",
   "metadata": {
    "application/vnd.databricks.v1+cell": {
     "cellMetadata": {},
     "inputWidgets": {},
     "nuid": "64924862-9e27-4901-9eb8-d9a79188f998",
     "showTitle": false,
     "tableResultSettingsMap": {},
     "title": ""
    }
   },
   "source": [
    "### 3. Add your MCP servers in your agent code\n",
    "\n",
    "If you would like to see how you can wrap your MCP servers as tools in your agent code, in our example we have been using both Genie as a Databricks managed MCP server and our custom MCP server hosted via Databricks Apps, then referr to the [langgraph-mcps-agents]($./langgraph-mcps-agent) notebook. Additionally, in the future you'd be also able to export the code from the AI playground."
   ]
  },
  {
   "cell_type": "markdown",
   "metadata": {
    "application/vnd.databricks.v1+cell": {
     "cellMetadata": {},
     "inputWidgets": {},
     "nuid": "4f93d176-69a1-4478-a73f-b2906ac40aa5",
     "showTitle": false,
     "tableResultSettingsMap": {},
     "title": ""
    }
   },
   "source": [
    "### 4. External MCP with Agent on Databricks\n",
    "\n",
    "In this setup, the agent connects to an MCP server that is hosted **outside of Databricks**. You can register the external MCP in the UI and make it available to your agent without writing code. This allows you to integrate existing services or partner APIs directly into your agent workflows. Use the [external-mcp-server-notebook]($./external-mcp-server-notebook) to get started."
   ]
  }
 ],
 "metadata": {
  "application/vnd.databricks.v1+notebook": {
   "computePreferences": null,
   "dashboards": [],
   "environmentMetadata": {
    "base_environment": "",
    "environment_version": "3"
   },
   "inputWidgetPreferences": null,
   "language": "python",
   "notebookMetadata": {
    "pythonIndentUnit": 2
   },
   "notebookName": "introduction",
   "widgets": {}
  },
  "language_info": {
   "name": "python"
  }
 },
 "nbformat": 4,
 "nbformat_minor": 0
}
