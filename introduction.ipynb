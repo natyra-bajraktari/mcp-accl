{
 "cells": [
  {
   "cell_type": "markdown",
   "metadata": {
    "application/vnd.databricks.v1+cell": {
     "cellMetadata": {},
     "inputWidgets": {},
     "nuid": "bcfe3152-63a9-4cbc-b89d-f9cf0db1886e",
     "showTitle": false,
     "tableResultSettingsMap": {},
     "title": ""
    }
   },
   "source": [
    "\n",
    "#Databricks MCP Acclerator\n",
    "\n",
    "\n",
    "This solution accelerator introduces different ways to integrate **Model Context Protocol (MCP)** and **Agents** within Databricks.  \n",
    "Each section gives a short explanation of the approach and links to detailed examples or demo notebooks.  \n",
    "Use this **introduction** notebook as your entry point to explore the different integration patterns.\n"
   ]
  },
  {
   "cell_type": "markdown",
   "metadata": {
    "application/vnd.databricks.v1+cell": {
     "cellMetadata": {},
     "inputWidgets": {},
     "nuid": "300e43ca-cb05-42f8-b5b7-510643c7861c",
     "showTitle": false,
     "tableResultSettingsMap": {},
     "title": ""
    }
   },
   "source": [
    "## 1. Managed MCP with Agent on Databricks\n",
    "\n",
    "In this setup, an agent runs inside Databricks and uses MCPs that are managed by the platform.\n",
    "This combines the reliability of managed MCPs with the flexibility of running your own agent workflows. Use the [managed-mcp-server](https://adb-984752964297111.11.azuredatabricks.net/editor/notebooks/2950507104497486?o=984752964297111#command/5261002272476194) notebook to get started\n",
    "It will soon be possible to export code directly from the Playground, making experimentation and\n",
    "deployment much smoother.\n"
   ]
  },
  {
   "cell_type": "markdown",
   "metadata": {
    "application/vnd.databricks.v1+cell": {
     "cellMetadata": {
      "byteLimit": 2048000,
      "rowLimit": 10000
     },
     "inputWidgets": {},
     "nuid": "e069e701-4728-452e-9845-7ba111867a51",
     "showTitle": false,
     "tableResultSettingsMap": {},
     "title": ""
    }
   },
   "source": [
    "## 2. Custom MCP with Agent on Databricks\n",
    "\n",
    "A custom MCP gives you the freedom to design your own functions and logic within Databricks.\n",
    "This is especially useful when you need specialized functionality, such as a custom API like get_weather.\n",
    "While this approach provides maximum flexibility, some built-in features like vector search, Genie, and Unity Catalog functions are not available."
   ]
  },
  {
   "cell_type": "markdown",
   "metadata": {
    "application/vnd.databricks.v1+cell": {
     "cellMetadata": {},
     "inputWidgets": {},
     "nuid": "6d49cd92-5eff-402e-8bc0-8e731583e10e",
     "showTitle": false,
     "tableResultSettingsMap": {},
     "title": ""
    }
   },
   "source": [
    "## 3. Managed MCP with External Client/Agent\n",
    "\n",
    "In this section we show how a Databricks Managed MCP server can be consumed from an external application client. In our example we show how you could consume our Genie capabilities hosted as a managed mcp server in Databricks from Claude Desktop."
   ]
  },
  {
   "cell_type": "markdown",
   "metadata": {
    "application/vnd.databricks.v1+cell": {
     "cellMetadata": {},
     "inputWidgets": {},
     "nuid": "4f93d176-69a1-4478-a73f-b2906ac40aa5",
     "showTitle": false,
     "tableResultSettingsMap": {},
     "title": ""
    }
   },
   "source": [
    "## 4. External MCP with Agent on Databricks\n",
    "You also might have a MCP server which is hosted outside of Databricks. In this case, you can connect your agent running in Databricks to an external MCP."
   ]
  },
  {
   "cell_type": "code",
   "execution_count": 0,
   "metadata": {
    "application/vnd.databricks.v1+cell": {
     "cellMetadata": {},
     "inputWidgets": {},
     "nuid": "50121214-dae1-4b3a-a891-0c71e27242e2",
     "showTitle": false,
     "tableResultSettingsMap": {},
     "title": ""
    }
   },
   "outputs": [],
   "source": []
  }
 ],
 "metadata": {
  "application/vnd.databricks.v1+notebook": {
   "computePreferences": null,
   "dashboards": [],
   "environmentMetadata": {
    "base_environment": "",
    "environment_version": "3"
   },
   "inputWidgetPreferences": null,
   "language": "python",
   "notebookMetadata": {
    "pythonIndentUnit": 2
   },
   "notebookName": "introduction",
   "widgets": {}
  },
  "language_info": {
   "name": "python"
  }
 },
 "nbformat": 4,
 "nbformat_minor": 0
}
