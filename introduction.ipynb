{
 "cells": [
  {
   "cell_type": "markdown",
   "metadata": {
    "application/vnd.databricks.v1+cell": {
     "cellMetadata": {},
     "inputWidgets": {},
     "nuid": "bcfe3152-63a9-4cbc-b89d-f9cf0db1886e",
     "showTitle": false,
     "tableResultSettingsMap": {},
     "title": ""
    }
   },
   "source": [
    "\n",
    "#Databricks MCP Acclerator\n",
    "\n",
    "\n",
    "This solution accelerator introduces different ways to integrate **Model Context Protocol (MCP)** and **Agents** within Databricks.  \n",
    "Each section gives a short explanation of the approach and links to detailed examples or demo notebooks.  \n",
    "Use this **introduction** notebook as your entry point to explore the different integration patterns.\n"
   ]
  },
  {
   "cell_type": "markdown",
   "metadata": {
    "application/vnd.databricks.v1+cell": {
     "cellMetadata": {},
     "inputWidgets": {},
     "nuid": "300e43ca-cb05-42f8-b5b7-510643c7861c",
     "showTitle": false,
     "tableResultSettingsMap": {},
     "title": ""
    }
   },
   "source": [
    "### 1. Managed MCP with Agent on Databricks\n",
    "\n",
    "In this setup, an agent runs inside Databricks and uses MCPs that are managed by the platform.\n",
    "This combines the reliability of managed MCPs with the flexibility of running your own agent workflows. Use the [managed-mcp-server](https://adb-984752964297111.11.azuredatabricks.net/editor/notebooks/2950507104497486?o=984752964297111#command/5261002272476194) notebook to get started\n",
    ". It will soon be also possible to export code directly from the Playground, making experimentation and\n",
    "deployment much smoother. "
   ]
  },
  {
   "cell_type": "markdown",
   "metadata": {
    "application/vnd.databricks.v1+cell": {
     "cellMetadata": {
      "byteLimit": 2048000,
      "rowLimit": 10000
     },
     "inputWidgets": {},
     "nuid": "e069e701-4728-452e-9845-7ba111867a51",
     "showTitle": false,
     "tableResultSettingsMap": {},
     "title": ""
    }
   },
   "source": [
    "### 2. Custom MCP with Agent on Databricks\n",
    "\n",
    "In this section, we would like to extend the capabilities to our agent by building a custom MCP server, deployed via Databricks App. This way, the agent besides being able to derive insight from Genie as a managed MCP server in Databricks, we want to make it capable of also quantifying a patient’s health risk by calling a risk API. The agent would be also capable to retrieve recent lab results from an external source. Use the [custom-mcp-server-notebook](https://adb-984752964297111.11.azuredatabricks.net/editor/notebooks/3541087344761917?o=984752964297111) to get started."
   ]
  },
  {
   "cell_type": "markdown",
   "metadata": {
    "application/vnd.databricks.v1+cell": {
     "cellMetadata": {},
     "inputWidgets": {},
     "nuid": "64924862-9e27-4901-9eb8-d9a79188f998",
     "showTitle": false,
     "tableResultSettingsMap": {},
     "title": ""
    }
   },
   "source": [
    "### 3. Add your MCP servers in your agent code\n",
    "\n",
    "If you would like to see how you can wrap your MCP servers as tools in your agent code, in our example we have been using both Genie as a Databricks managed MCP server and our custom MCP server hosted via Databricks Apps, then referr to the [langgraph-mcps-agents](https://adb-984752964297111.11.azuredatabricks.net/editor/notebooks/3516058919999943?o=984752964297111) notebook. Additionally, in the future you'd be also able to export the code from the AI playground."
   ]
  },
  {
   "cell_type": "markdown",
   "metadata": {
    "application/vnd.databricks.v1+cell": {
     "cellMetadata": {},
     "inputWidgets": {},
     "nuid": "4f93d176-69a1-4478-a73f-b2906ac40aa5",
     "showTitle": false,
     "tableResultSettingsMap": {},
     "title": ""
    }
   },
   "source": [
    "### 4. External MCP with Agent on Databricks\n",
    "\n",
    "TBD"
   ]
  },
  {
   "cell_type": "code",
   "execution_count": 0,
   "metadata": {
    "application/vnd.databricks.v1+cell": {
     "cellMetadata": {},
     "inputWidgets": {},
     "nuid": "50121214-dae1-4b3a-a891-0c71e27242e2",
     "showTitle": false,
     "tableResultSettingsMap": {},
     "title": ""
    }
   },
   "outputs": [],
   "source": []
  }
 ],
 "metadata": {
  "application/vnd.databricks.v1+notebook": {
   "computePreferences": null,
   "dashboards": [],
   "environmentMetadata": {
    "base_environment": "",
    "environment_version": "3"
   },
   "inputWidgetPreferences": null,
   "language": "python",
   "notebookMetadata": {
    "pythonIndentUnit": 2
   },
   "notebookName": "introduction",
   "widgets": {}
  },
  "language_info": {
   "name": "python"
  }
 },
 "nbformat": 4,
 "nbformat_minor": 0
}
